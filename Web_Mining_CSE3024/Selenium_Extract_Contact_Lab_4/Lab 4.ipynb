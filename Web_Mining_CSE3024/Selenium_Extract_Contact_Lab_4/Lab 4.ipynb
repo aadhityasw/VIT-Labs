{
 "cells": [
  {
   "cell_type": "markdown",
   "metadata": {},
   "source": [
    "# Web Mining Lab - 4   Selenium\n",
    "\n",
    "Write a Python program to read the given website and extract the phone numbers and emails and contact addresses."
   ]
  },
  {
   "cell_type": "code",
   "execution_count": 1,
   "metadata": {},
   "outputs": [],
   "source": [
    "from selenium import webdriver\n",
    "import re\n",
    "import pandas as pd\n",
    "import copy"
   ]
  },
  {
   "cell_type": "code",
   "execution_count": 2,
   "metadata": {},
   "outputs": [],
   "source": [
    "# This opens the safari automated window.\n",
    "# We need to allow automation in safari settings before running this.\n",
    "\n",
    "driver = webdriver.Safari()"
   ]
  },
  {
   "cell_type": "code",
   "execution_count": 3,
   "metadata": {},
   "outputs": [],
   "source": [
    "# This fetches the web page in the new window\n",
    "\n",
    "driver.get(\"https://vit.ac.in\")"
   ]
  },
  {
   "cell_type": "code",
   "execution_count": 4,
   "metadata": {},
   "outputs": [],
   "source": [
    "# Open the Contact Us page\n",
    "\n",
    "driver.find_element_by_xpath(\"//a[@title='Contact Us']\").click()"
   ]
  },
  {
   "cell_type": "code",
   "execution_count": 79,
   "metadata": {},
   "outputs": [
    {
     "data": {
      "text/plain": [
       "[<selenium.webdriver.remote.webelement.WebElement (session=\"1BB04390-3F06-4125-8B84-1B2692FE857E\", element=\"node-E98624DE-BCE7-4EA2-8B28-FA87524A889F\")>,\n",
       " <selenium.webdriver.remote.webelement.WebElement (session=\"1BB04390-3F06-4125-8B84-1B2692FE857E\", element=\"node-6B5F557B-F6BF-45DB-9AAE-A9448F2A78EE\")>,\n",
       " <selenium.webdriver.remote.webelement.WebElement (session=\"1BB04390-3F06-4125-8B84-1B2692FE857E\", element=\"node-5D34AA5F-AF7F-48A4-9164-4C722578E5E6\")>]"
      ]
     },
     "execution_count": 79,
     "metadata": {},
     "output_type": "execute_result"
    }
   ],
   "source": [
    "# In the contact us page, all the contact details are in tables with class name as \"table al_left table-bordered table-striped custom-style\"\n",
    "\n",
    "# Get all the tables with that class name\n",
    "tables = driver.find_elements_by_css_selector('.table.al_left.table-bordered.table-striped.custom-style')\n",
    "\n",
    "tables"
   ]
  },
  {
   "cell_type": "code",
   "execution_count": 99,
   "metadata": {},
   "outputs": [
    {
     "name": "stdout",
     "output_type": "stream",
     "text": [
      "VIT \n",
      "\t\t\tVellore Campus \n",
      "\t\t\tVellore - 632 014 \n",
      "\t\t\tTamilnadu, India \n",
      "\t\t\tTel: 91-416-2243091 / 93 \n",
      "\t\t\tFax: 91-416-2243092 \n",
      "\t\t\t91-416-2240411\n",
      "VIT \n",
      "\t\t\tChennai Campus \n",
      "\t\t\tVandalur - Kelambakkam Road \n",
      "\t\t\tChennai - 600 127 \n",
      "\t\t\tPh : 044 3993 1555 \n",
      "\t\t\tFax : 044 3993 2555\n",
      "\t\t\tEmails: admin.chennai@vit.ac.in\n",
      "Admissions Office \n",
      "\t\t\tDr.G.Kalaichelvan \n",
      "\t\t\tDirector - UG Admissions \n",
      "\t\t\tVellore Institute of Technology \n",
      "\t\t\tVellore - 632 014, \n",
      "\t\t\tTamil Nadu, India. \n",
      "\t\t\tPhone: + 91-416-220 2020 \n",
      "\t\t\tFax: +91-416-224 5544, 224 0411 \n",
      "\t\t\tEmail:\n",
      "\t\t\tEmails: ugadmission@vit.ac.in\n",
      "Admissions Office \n",
      "\t\t\tDr. Ramasubramanian V \n",
      "\t\t\tDirector - PG Admissions \n",
      "\t\t\tVellore Institute of Technology \n",
      "\t\t\tVellore - 632 014, \n",
      "\t\t\tTamil Nadu, India. \n",
      "\t\t\tPhone: + 91-416-220 2188 \n",
      "\t\t\tFax: +91-416-224 5544, 224 9955 \n",
      "\t\t\tEmail:\n",
      "\t\t\tEmails: pgadmission@vit.ac.in\n",
      "Dr.V.Samuel Rajkumar \n",
      "\t\t\tDirector - Placement & Training \n",
      "\t\t\tVellore Institute of Technology \n",
      "\t\t\tVellore - 632 014. \n",
      "\t\t\tTamil Nadu. \n",
      "\t\t\tTel: 0416 - 2202846 \n",
      "\t\t\tFax: 91-416-2243092, 91-416-224 0411\n",
      "International Relations Office \n",
      "\t\t\tDr. C. Vijayakumar \n",
      "\t\t\tDirector - International Relations \n",
      "\t\t\tVellore Institute of Technology \n",
      "\t\t\tVellore - 632 014. \n",
      "\t\t\tTamil Nadu, India \n",
      "\t\t\tTel: 91-416-224 3118 \n",
      "\t\t\tFax: 91-416-2243092\n"
     ]
    }
   ],
   "source": [
    "# The first table is different\n",
    "\n",
    "item = tables[0]\n",
    "# Get the rows\n",
    "tds = item.find_elements_by_xpath(\"./tbody/tr/td\")\n",
    "\n",
    "# Store them in an array of strings\n",
    "contact_temp_arr = []\n",
    "\n",
    "for td in tds :\n",
    "    # Get all the emails from the anchor tags there\n",
    "    cur_emails = []\n",
    "    try :\n",
    "        anchors = td.find_elements_by_xpath(\"./a\")\n",
    "        for anchor in anchors :\n",
    "            cur_emails.append(anchor.text)\n",
    "    except :\n",
    "        pass\n",
    "    \n",
    "    # Get the text except the ones inside the anchor tags\n",
    "    OWN_TEXT_SCRIPT = \"if (arguments[0].hasChildNodes()) { \\\n",
    "                            var res = ''; \\\n",
    "                            var children = arguments[0].childNodes; \\\n",
    "                            for (var n = 0; n < children.length; n++) { \\\n",
    "                                if (children[n].nodeType == Node.TEXT_NODE) { \\\n",
    "                                    res += ' ' + children[n].nodeValue; \\\n",
    "                                } \\\n",
    "                            } \\\n",
    "                            return res.trim() \\\n",
    "                        } \\\n",
    "                        else { \\\n",
    "                            return arguments[0].innerText \\\n",
    "                        }\"\n",
    "    # Some td's have p-tags and font-tags, so we go cross it and then use the js above\n",
    "    it = td\n",
    "    temp = None\n",
    "    try :\n",
    "        temp = it.find_element_by_xpath(\"./p\")\n",
    "    except :\n",
    "        pass\n",
    "    if temp is not None :\n",
    "        it = temp\n",
    "    try :\n",
    "        temp = it.find_element_by_xpath(\"./font\")\n",
    "    except :\n",
    "        pass\n",
    "    if temp is not None :\n",
    "        it = temp\n",
    "    \n",
    "    # Execute the above js script\n",
    "    text = driver.execute_script(OWN_TEXT_SCRIPT, it)\n",
    "    if len(cur_emails) > 0 :\n",
    "        text += \"\\n\\t\\t\\tEmails: \" + \",\".join(cur_emails)\n",
    "    \n",
    "    \n",
    "    print(text)\n",
    "    contact_temp_arr.append(text)"
   ]
  },
  {
   "cell_type": "code",
   "execution_count": 100,
   "metadata": {},
   "outputs": [],
   "source": [
    "# As these details are in organizational level, we save this seperately in a file\n",
    "\n",
    "with open('Institutuion_Contact.txt', 'w') as file :\n",
    "    for row in contact_temp_arr :\n",
    "        file.write(row)\n",
    "        file.write(\"\\n\\n\")"
   ]
  },
  {
   "cell_type": "code",
   "execution_count": 49,
   "metadata": {},
   "outputs": [],
   "source": [
    "# Create arrays to store the names, designations, and email address :\n",
    "\n",
    "names = []\n",
    "designations = []\n",
    "emails = []"
   ]
  },
  {
   "cell_type": "code",
   "execution_count": 50,
   "metadata": {},
   "outputs": [],
   "source": [
    "# For the remaining tables, the format is similar, so we will store them in a CSV file in the end\n",
    "\n",
    "for i in range(1, len(tables)) :\n",
    "    table = tables[i]\n",
    "    trs = table.find_elements_by_xpath(\"./tbody/tr\")\n",
    "    \n",
    "    for i in range(1, len(trs)) :\n",
    "        tds = trs[i].find_elements_by_xpath(\"./td\")\n",
    "        \n",
    "        # First column is designation\n",
    "        designations.append(tds[0].text)\n",
    "        \n",
    "        # Second column is Name\n",
    "        names.append(tds[1].text)\n",
    "        \n",
    "        # Third is email which is inside an anchor tag\n",
    "        try :\n",
    "            cur_email = tds[2].find_element_by_xpath(\"./a\").text\n",
    "        except :\n",
    "            cur_email = '-'\n",
    "        regex_pattern = '^[a-z0-9]+[\\._]?[a-z0-9]+[@]\\w+[.]\\w' \n",
    "        if (cur_email != '-') and (not re.search(regex_pattern, cur_email)) :\n",
    "            print(\"Email Pattern does not match\", cur_email)\n",
    "            break\n",
    "        emails.append(cur_email)"
   ]
  },
  {
   "cell_type": "code",
   "execution_count": 57,
   "metadata": {},
   "outputs": [
    {
     "data": {
      "text/html": [
       "<div>\n",
       "<style scoped>\n",
       "    .dataframe tbody tr th:only-of-type {\n",
       "        vertical-align: middle;\n",
       "    }\n",
       "\n",
       "    .dataframe tbody tr th {\n",
       "        vertical-align: top;\n",
       "    }\n",
       "\n",
       "    .dataframe thead th {\n",
       "        text-align: right;\n",
       "    }\n",
       "</style>\n",
       "<table border=\"1\" class=\"dataframe\">\n",
       "  <thead>\n",
       "    <tr style=\"text-align: right;\">\n",
       "      <th></th>\n",
       "      <th>Name</th>\n",
       "      <th>Designation</th>\n",
       "      <th>Email</th>\n",
       "    </tr>\n",
       "  </thead>\n",
       "  <tbody>\n",
       "    <tr>\n",
       "      <th>0</th>\n",
       "      <td>Dr. G. Viswanathan</td>\n",
       "      <td>Chancellor</td>\n",
       "      <td>chancellor@vit.ac.in</td>\n",
       "    </tr>\n",
       "    <tr>\n",
       "      <th>1</th>\n",
       "      <td>Mr. Sankar Viswanathan</td>\n",
       "      <td>Vice President (Chennai Campus)</td>\n",
       "      <td>sankar@vit.ac.in</td>\n",
       "    </tr>\n",
       "    <tr>\n",
       "      <th>2</th>\n",
       "      <td>Dr. Sekar Viswanathan</td>\n",
       "      <td>Vice President (AP Campus)</td>\n",
       "      <td>sekar.office@vit.ac.in</td>\n",
       "    </tr>\n",
       "    <tr>\n",
       "      <th>3</th>\n",
       "      <td>Mr. G.V.Selvam</td>\n",
       "      <td>Vice President (Vellore Campus)</td>\n",
       "      <td>gvselvam.vp@vit.ac.in</td>\n",
       "    </tr>\n",
       "    <tr>\n",
       "      <th>4</th>\n",
       "      <td>Dr. Sandhya Pentareddy</td>\n",
       "      <td>Executive Director</td>\n",
       "      <td>sandhya.office@vit.ac.in</td>\n",
       "    </tr>\n",
       "  </tbody>\n",
       "</table>\n",
       "</div>"
      ],
      "text/plain": [
       "                     Name                      Designation  \\\n",
       "0      Dr. G. Viswanathan                       Chancellor   \n",
       "1  Mr. Sankar Viswanathan  Vice President (Chennai Campus)   \n",
       "2   Dr. Sekar Viswanathan       Vice President (AP Campus)   \n",
       "3          Mr. G.V.Selvam  Vice President (Vellore Campus)   \n",
       "4  Dr. Sandhya Pentareddy               Executive Director   \n",
       "\n",
       "                      Email  \n",
       "0      chancellor@vit.ac.in  \n",
       "1          sankar@vit.ac.in  \n",
       "2    sekar.office@vit.ac.in  \n",
       "3     gvselvam.vp@vit.ac.in  \n",
       "4  sandhya.office@vit.ac.in  "
      ]
     },
     "execution_count": 57,
     "metadata": {},
     "output_type": "execute_result"
    }
   ],
   "source": [
    "# Convert these into a CSV file\n",
    "\n",
    "officials_df = pd.DataFrame(list(zip(names, designations, emails)), columns=['Name', 'Designation', 'Email'])\n",
    "officials_df.head()"
   ]
  },
  {
   "cell_type": "code",
   "execution_count": 59,
   "metadata": {},
   "outputs": [],
   "source": [
    "# Save this CSV file\n",
    "\n",
    "officials_df.to_csv('Officials_Details.csv', index=None)"
   ]
  },
  {
   "cell_type": "code",
   "execution_count": 101,
   "metadata": {},
   "outputs": [],
   "source": [
    "# This Closes the connection and closes the window\n",
    "\n",
    "driver.close()"
   ]
  },
  {
   "cell_type": "code",
   "execution_count": null,
   "metadata": {},
   "outputs": [],
   "source": []
  }
 ],
 "metadata": {
  "kernelspec": {
   "display_name": "Python 3",
   "language": "python",
   "name": "python3"
  },
  "language_info": {
   "codemirror_mode": {
    "name": "ipython",
    "version": 3
   },
   "file_extension": ".py",
   "mimetype": "text/x-python",
   "name": "python",
   "nbconvert_exporter": "python",
   "pygments_lexer": "ipython3",
   "version": "3.8.3"
  }
 },
 "nbformat": 4,
 "nbformat_minor": 4
}
