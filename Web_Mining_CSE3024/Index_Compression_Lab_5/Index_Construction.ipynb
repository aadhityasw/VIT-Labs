{
 "cells": [
  {
   "cell_type": "markdown",
   "metadata": {},
   "source": [
    "# Inverted Indexing and Index Compression\n",
    "\n",
    "\n",
    "Build the inverted index for the following documents:\n",
    "* ID1 : Selenium is a portable framework for testing web applications\n",
    "* ID2 : Beautiful Soup is useful for web scraping\n",
    "* ID3: It is a python package for parsing the pages\n",
    "\n",
    "Perform Index Compression for the integer values in the inverted index (duplicates to be eliminated) using Elias delta coding and variable byte scheme."
   ]
  },
  {
   "cell_type": "code",
   "execution_count": 23,
   "metadata": {},
   "outputs": [],
   "source": [
    "# Import statements\n",
    "\n",
    "import math\n",
    "import re\n",
    "import string\n",
    "\n",
    "from nltk.tokenize import word_tokenize\n",
    "from nltk.corpus import stopwords"
   ]
  },
  {
   "cell_type": "code",
   "execution_count": 2,
   "metadata": {},
   "outputs": [],
   "source": [
    "# Documents list\n",
    "\n",
    "documents = [\n",
    "    \"Selenium is a portable framework for testing web applications\",\n",
    "    \"Beautiful Soup is useful for web scraping\",\n",
    "    \"It is a python package for parsing the pages\"\n",
    "]"
   ]
  },
  {
   "cell_type": "markdown",
   "metadata": {},
   "source": [
    "## 1. Inverted Index Construction"
   ]
  },
  {
   "cell_type": "markdown",
   "metadata": {},
   "source": [
    "### 1.1 Pre-processing\n",
    "\n",
    "Refer to this link for more details : [Text Preprocessing Reference](https://medium.com/@datamonsters/text-preprocessing-in-python-steps-tools-and-examples-bf025f872908)\n"
   ]
  },
  {
   "cell_type": "code",
   "execution_count": 11,
   "metadata": {},
   "outputs": [],
   "source": [
    "def preprocess(text) :\n",
    "    \"\"\"\n",
    "    Given a text, we pre-process and return an array of the words from the text.\n",
    "    \"\"\"\n",
    "    \n",
    "    s = text\n",
    "    \n",
    "    # Convert to lower case\n",
    "    s = s.lower()\n",
    "    \n",
    "    # Removing numbers and other numerical data\n",
    "    # We substitute all the occurances of numbers by an empty string, thereby effectively removing them.\n",
    "    s = re.sub(r'\\d+', '', s)\n",
    "    \n",
    "    # Remove punctuation signs\n",
    "    #s = s.translate(string.maketrans(\"\",\"\"), string.punctuation)\n",
    "    s = s.replace('/[^A-Za-z0-9]/g', '')\n",
    "    \n",
    "    # Trim the leading and trailing spaces\n",
    "    s = s.strip()\n",
    "    \n",
    "    # Tokenize the text\n",
    "    words = word_tokenize(s)\n",
    "    \n",
    "    # Stop Word Removal\n",
    "    stop_words = set(stopwords.words('english'))\n",
    "    words = [word for word in words if word not in stop_words]\n",
    "    \n",
    "    # Return the word list\n",
    "    return words"
   ]
  },
  {
   "cell_type": "markdown",
   "metadata": {},
   "source": [
    "### 1.2 Find Occurance Function"
   ]
  },
  {
   "cell_type": "code",
   "execution_count": 7,
   "metadata": {},
   "outputs": [],
   "source": [
    "def findOccurance(text, word) :\n",
    "    \"\"\"\n",
    "    Given a text and the word to be found, we partially pre-process the text and then return the count of occurances of the word,\n",
    "    and the positions in the text where they occur.\n",
    "    \"\"\"\n",
    "    \n",
    "    # Split the text into tokens and remove the punctuation signs and convert to lower case\n",
    "    # This is to find the position of the words to have in the inverted index\n",
    "    text = text.replace('/[^A-Za-z0-9]/g', '')\n",
    "    text = text.replace('  ', ' ')\n",
    "    text = text.lower()\n",
    "    text_words = text.strip().split()\n",
    "    \n",
    "    word_count = 0\n",
    "    word_positions = []\n",
    "    \n",
    "    for i in range(len(text_words)) :\n",
    "        if word == text_words[i] :\n",
    "            word_count += 1\n",
    "            word_positions.append(i)\n",
    "    \n",
    "    return (word_count, word_positions)"
   ]
  },
  {
   "cell_type": "markdown",
   "metadata": {},
   "source": [
    "### 1.3 Inverted Indexing"
   ]
  },
  {
   "cell_type": "code",
   "execution_count": 17,
   "metadata": {},
   "outputs": [],
   "source": [
    "inverted_index = {}\n",
    "\n",
    "# Process each of the documnet\n",
    "for (i, doc) in enumerate(documents) :\n",
    "    # Pre-Processing of each individual document\n",
    "    words = preprocess(doc)\n",
    "    \n",
    "    # Add the words into the inverted index\n",
    "    for word in words :\n",
    "        # Create an entry for the word if one does not exist\n",
    "        if word not in inverted_index :\n",
    "            inverted_index[word] = []\n",
    "            \n",
    "        # Find all the occurances of the word in the doc.\n",
    "        occurance_count, occurance_pos_list = findOccurance(doc, word)\n",
    "        \n",
    "        # Add these details into the inverted index\n",
    "        inverted_index[word].append(((i+1), occurance_count, occurance_pos_list))"
   ]
  },
  {
   "cell_type": "markdown",
   "metadata": {},
   "source": [
    "Format for the inverted index is :\n",
    "\n",
    "* inverted index :\n",
    "```python\n",
    "{\n",
    "    word : [\n",
    "        (document_id, number_of_occurances_in_document, [offset_of_occurances]),\n",
    "        ...\n",
    "    ],\n",
    "    ...\n",
    "}\n",
    "```"
   ]
  },
  {
   "cell_type": "code",
   "execution_count": 52,
   "metadata": {},
   "outputs": [
    {
     "name": "stdout",
     "output_type": "stream",
     "text": [
      "Inverted Index : \n",
      "('selenium', [(1, 1, [0])])\n",
      "('portable', [(1, 1, [3])])\n",
      "('framework', [(1, 1, [4])])\n",
      "('testing', [(1, 1, [6])])\n",
      "('web', [(1, 1, [7]), (2, 1, [5])])\n",
      "('applications', [(1, 1, [8])])\n",
      "('beautiful', [(2, 1, [0])])\n",
      "('soup', [(2, 1, [1])])\n",
      "('useful', [(2, 1, [3])])\n",
      "('scraping', [(2, 1, [6])])\n",
      "('python', [(3, 1, [3])])\n",
      "('package', [(3, 1, [4])])\n",
      "('parsing', [(3, 1, [6])])\n",
      "('pages', [(3, 1, [8])])\n"
     ]
    }
   ],
   "source": [
    "print('Inverted Index : ')\n",
    "for item in inverted_index.items() :\n",
    "    print(item)"
   ]
  },
  {
   "cell_type": "markdown",
   "metadata": {},
   "source": [
    "## 2. Index Compression\n",
    "\n",
    "For every unique number in the index, we create a map of the number to a encoded version of the number which occupies a lower size, thereby ensuring compression."
   ]
  },
  {
   "cell_type": "markdown",
   "metadata": {},
   "source": [
    "### 2.1 Binary Conversion"
   ]
  },
  {
   "cell_type": "code",
   "execution_count": 19,
   "metadata": {},
   "outputs": [],
   "source": [
    "def binary(n) :\n",
    "    \"\"\"\n",
    "    Given an integer number returns the equivalent binary string.\n",
    "    \"\"\"\n",
    "    \n",
    "    # Convert to binary string\n",
    "    num = bin(n)\n",
    "    \n",
    "    # Remove the `0b` which is present in the front of the string\n",
    "    num = num[2:]\n",
    "    \n",
    "    return num"
   ]
  },
  {
   "cell_type": "markdown",
   "metadata": {},
   "source": [
    "### 2.2 Elias Gamma Encoding"
   ]
  },
  {
   "cell_type": "code",
   "execution_count": 42,
   "metadata": {},
   "outputs": [],
   "source": [
    "def eliasGammaEncoding(n) :\n",
    "    \"\"\"\n",
    "    Given an integer number `n`, we encode the number using the `Elias Gamma Encoding` scheme, and return the compressed value as a string.\n",
    "    \"\"\"\n",
    "    \n",
    "    # Zero is already encoded\n",
    "    if n == 0 :\n",
    "        return \"0\"\n",
    "    \n",
    "    # Find the binary value of number\n",
    "    num = binary(n)\n",
    "    \n",
    "    # Prepend the value with (length-1) zeros\n",
    "    num = ('0' * (len(num) - 1)) + num\n",
    "    \n",
    "    return num"
   ]
  },
  {
   "cell_type": "markdown",
   "metadata": {},
   "source": [
    "### 2.3 Elias Delta Encoding"
   ]
  },
  {
   "cell_type": "code",
   "execution_count": 43,
   "metadata": {},
   "outputs": [],
   "source": [
    "def eliasDeltaEncoding(n) :\n",
    "    \"\"\"\n",
    "    Given an integer number `n`, we encode the number using the `Elias Delta Encoding` scheme, and return the compressed value as a string.\n",
    "    \"\"\"\n",
    "    \n",
    "    # Zero is already encoded\n",
    "    if n == 0 :\n",
    "        return \"0\"\n",
    "    \n",
    "    # Find the gamma code for (1 + log2(n))\n",
    "    num1 = 1 + int(math.log2(n))\n",
    "    num1 = eliasGammaEncoding(num1)\n",
    "    \n",
    "    # Number in binary form after removing the MSB\n",
    "    num2 = binary(n)\n",
    "    num2 = str(num2)[1:]\n",
    "    \n",
    "    # Combine the gamma code and the other code value\n",
    "    num = num1 + num2\n",
    "    \n",
    "    return num"
   ]
  },
  {
   "cell_type": "markdown",
   "metadata": {},
   "source": [
    "### 2.4 Variable Byte Encoding Scheme"
   ]
  },
  {
   "cell_type": "code",
   "execution_count": 47,
   "metadata": {},
   "outputs": [],
   "source": [
    "def variableByteEncoding(n) :\n",
    "    \"\"\"\n",
    "    Given an integer number `n`, we encode the number using the `Variable Byte Encoding` scheme, and return the compressed value as a string.\n",
    "    \"\"\"\n",
    "    \n",
    "    # Convert the number into binary form\n",
    "    s = binary(n)\n",
    "    \n",
    "    result = \"\"\n",
    "    \n",
    "    while len(s) > 0 :\n",
    "        # Get the term and update the binary string\n",
    "        if len(s) > 7 :\n",
    "            term = s[-7:]\n",
    "            s = s[:-7]\n",
    "        else :\n",
    "            term = s\n",
    "            s = \"\"\n",
    "            term = (\"0\" * (7 - len(term))) + term\n",
    "        \n",
    "        if len(result) == 0 :\n",
    "            result = term + \"0\"\n",
    "        else :\n",
    "            result = term + \"1\" + result\n",
    "    \n",
    "    return result    "
   ]
  },
  {
   "cell_type": "markdown",
   "metadata": {},
   "source": [
    "### 2.5 Index Compression Function"
   ]
  },
  {
   "cell_type": "code",
   "execution_count": 48,
   "metadata": {},
   "outputs": [],
   "source": [
    "def indexCompression(inverted_index, encoding_scheme) :\n",
    "    \"\"\"\n",
    "    Given an inverted index, we perform compression for all the integers in the inverted index and return the encoding map.\n",
    "    \"\"\"\n",
    "\n",
    "    compression_map = {}\n",
    "\n",
    "    for word_indices in inverted_index.values() :\n",
    "        for word_index in word_indices :\n",
    "            # Prepare an array to have all the numbers involved in this\n",
    "            i, count, positions = word_index\n",
    "            arr = [i, count] + positions\n",
    "\n",
    "            # For each number compute and store the elias delta encoded value if not already present\n",
    "            for n in arr :\n",
    "                if n not in compression_map :\n",
    "                    if encoding_scheme == 'ELIAS_DELTA' :\n",
    "                        compression_map[n] = eliasDeltaEncoding(n)\n",
    "                    elif encoding_scheme == 'VARIABLE_BYTE' :\n",
    "                        compression_map[n] = variableByteEncoding(n)\n",
    "    \n",
    "    return compression_map"
   ]
  },
  {
   "cell_type": "markdown",
   "metadata": {},
   "source": [
    "### 2.6 Index Compression By Elias Delta\n",
    "\n",
    "We perform compression for all the numbers using `Elias Delta`  encoding scheme in the inverted index created in `Section 1`"
   ]
  },
  {
   "cell_type": "code",
   "execution_count": 49,
   "metadata": {},
   "outputs": [
    {
     "name": "stdout",
     "output_type": "stream",
     "text": [
      "Elias Delta Encoding Map :\n",
      "(1, '1')\n",
      "(0, '0')\n",
      "(3, '0101')\n",
      "(4, '01100')\n",
      "(6, '01110')\n",
      "(7, '01111')\n",
      "(2, '0100')\n",
      "(5, '01101')\n",
      "(8, '00100000')\n"
     ]
    }
   ],
   "source": [
    "elias_delta_compression_map = indexCompression(inverted_index, 'ELIAS_DELTA')\n",
    "\n",
    "print(\"Elias Delta Encoding Map :\")\n",
    "for item in elias_delta_compression_map.items() :\n",
    "    print(item)"
   ]
  },
  {
   "cell_type": "markdown",
   "metadata": {},
   "source": [
    "### 2.7 Index Compression By Variable Byte Encoding\n",
    "\n",
    "We perform compression for all the numbers using `Variable Byte` encoding scheme in the inverted index created in `Section 1`"
   ]
  },
  {
   "cell_type": "code",
   "execution_count": 50,
   "metadata": {},
   "outputs": [
    {
     "name": "stdout",
     "output_type": "stream",
     "text": [
      "Variable Byte Encoding Map :\n",
      "(1, '00000010')\n",
      "(0, '00000000')\n",
      "(3, '00000110')\n",
      "(4, '00001000')\n",
      "(6, '00001100')\n",
      "(7, '00001110')\n",
      "(2, '00000100')\n",
      "(5, '00001010')\n",
      "(8, '00010000')\n"
     ]
    }
   ],
   "source": [
    "variable_byte_compression_map = indexCompression(inverted_index, 'VARIABLE_BYTE')\n",
    "\n",
    "print(\"Variable Byte Encoding Map :\")\n",
    "for item in variable_byte_compression_map.items() :\n",
    "    print(item)"
   ]
  },
  {
   "cell_type": "code",
   "execution_count": null,
   "metadata": {},
   "outputs": [],
   "source": []
  }
 ],
 "metadata": {
  "kernelspec": {
   "display_name": "Python 3",
   "language": "python",
   "name": "python3"
  },
  "language_info": {
   "codemirror_mode": {
    "name": "ipython",
    "version": 3
   },
   "file_extension": ".py",
   "mimetype": "text/x-python",
   "name": "python",
   "nbconvert_exporter": "python",
   "pygments_lexer": "ipython3",
   "version": "3.8.3"
  }
 },
 "nbformat": 4,
 "nbformat_minor": 4
}
