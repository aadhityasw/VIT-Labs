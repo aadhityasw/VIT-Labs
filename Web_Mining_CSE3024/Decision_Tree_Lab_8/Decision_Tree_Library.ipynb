{
 "cells": [
  {
   "cell_type": "markdown",
   "metadata": {},
   "source": [
    "# Decision Tree\n",
    "\n",
    "In this Notebook, we will implement various decision trees on the `Cleveland Heart Disease` dataset obtained from the `UCI` repository , and after the required pre-processing steps as covered before."
   ]
  },
  {
   "cell_type": "code",
   "execution_count": 1,
   "metadata": {},
   "outputs": [],
   "source": [
    "# Import Statements\n",
    "\n",
    "# For accessing the datasets\n",
    "import pandas as pd\n",
    "\n",
    "# For splitting the dataset into train and test sets\n",
    "from sklearn.model_selection import train_test_split\n",
    "\n",
    "# For implementing the decision tree\n",
    "from sklearn.tree import DecisionTreeClassifier\n",
    "\n",
    "# For evaluvating the performance of the classifier\n",
    "from sklearn import metrics\n",
    "\n",
    "# For Normalization/Scaling of the features\n",
    "from sklearn.preprocessing import StandardScaler"
   ]
  },
  {
   "cell_type": "markdown",
   "metadata": {},
   "source": [
    "## 1. Reading the dataset"
   ]
  },
  {
   "cell_type": "code",
   "execution_count": 2,
   "metadata": {},
   "outputs": [
    {
     "data": {
      "text/html": [
       "<div>\n",
       "<style scoped>\n",
       "    .dataframe tbody tr th:only-of-type {\n",
       "        vertical-align: middle;\n",
       "    }\n",
       "\n",
       "    .dataframe tbody tr th {\n",
       "        vertical-align: top;\n",
       "    }\n",
       "\n",
       "    .dataframe thead th {\n",
       "        text-align: right;\n",
       "    }\n",
       "</style>\n",
       "<table border=\"1\" class=\"dataframe\">\n",
       "  <thead>\n",
       "    <tr style=\"text-align: right;\">\n",
       "      <th></th>\n",
       "      <th>age</th>\n",
       "      <th>gender</th>\n",
       "      <th>cp</th>\n",
       "      <th>trestbps</th>\n",
       "      <th>chol</th>\n",
       "      <th>fbs</th>\n",
       "      <th>restecg</th>\n",
       "      <th>thalach</th>\n",
       "      <th>exang</th>\n",
       "      <th>oldpeak</th>\n",
       "      <th>slope</th>\n",
       "      <th>ca</th>\n",
       "      <th>thal</th>\n",
       "      <th>num</th>\n",
       "    </tr>\n",
       "  </thead>\n",
       "  <tbody>\n",
       "    <tr>\n",
       "      <th>0</th>\n",
       "      <td>63</td>\n",
       "      <td>1</td>\n",
       "      <td>1</td>\n",
       "      <td>145</td>\n",
       "      <td>233</td>\n",
       "      <td>1</td>\n",
       "      <td>2</td>\n",
       "      <td>150</td>\n",
       "      <td>0</td>\n",
       "      <td>2.3</td>\n",
       "      <td>3</td>\n",
       "      <td>0</td>\n",
       "      <td>6</td>\n",
       "      <td>0</td>\n",
       "    </tr>\n",
       "    <tr>\n",
       "      <th>1</th>\n",
       "      <td>67</td>\n",
       "      <td>1</td>\n",
       "      <td>4</td>\n",
       "      <td>160</td>\n",
       "      <td>286</td>\n",
       "      <td>0</td>\n",
       "      <td>2</td>\n",
       "      <td>108</td>\n",
       "      <td>1</td>\n",
       "      <td>1.5</td>\n",
       "      <td>2</td>\n",
       "      <td>3</td>\n",
       "      <td>3</td>\n",
       "      <td>2</td>\n",
       "    </tr>\n",
       "    <tr>\n",
       "      <th>2</th>\n",
       "      <td>67</td>\n",
       "      <td>1</td>\n",
       "      <td>4</td>\n",
       "      <td>120</td>\n",
       "      <td>229</td>\n",
       "      <td>0</td>\n",
       "      <td>2</td>\n",
       "      <td>129</td>\n",
       "      <td>1</td>\n",
       "      <td>2.6</td>\n",
       "      <td>2</td>\n",
       "      <td>2</td>\n",
       "      <td>7</td>\n",
       "      <td>1</td>\n",
       "    </tr>\n",
       "    <tr>\n",
       "      <th>3</th>\n",
       "      <td>37</td>\n",
       "      <td>1</td>\n",
       "      <td>3</td>\n",
       "      <td>130</td>\n",
       "      <td>250</td>\n",
       "      <td>0</td>\n",
       "      <td>0</td>\n",
       "      <td>187</td>\n",
       "      <td>0</td>\n",
       "      <td>3.5</td>\n",
       "      <td>3</td>\n",
       "      <td>0</td>\n",
       "      <td>3</td>\n",
       "      <td>0</td>\n",
       "    </tr>\n",
       "    <tr>\n",
       "      <th>4</th>\n",
       "      <td>41</td>\n",
       "      <td>0</td>\n",
       "      <td>2</td>\n",
       "      <td>130</td>\n",
       "      <td>204</td>\n",
       "      <td>0</td>\n",
       "      <td>2</td>\n",
       "      <td>172</td>\n",
       "      <td>0</td>\n",
       "      <td>1.4</td>\n",
       "      <td>1</td>\n",
       "      <td>0</td>\n",
       "      <td>3</td>\n",
       "      <td>0</td>\n",
       "    </tr>\n",
       "  </tbody>\n",
       "</table>\n",
       "</div>"
      ],
      "text/plain": [
       "   age  gender  cp  trestbps  chol  fbs  restecg  thalach  exang  oldpeak  \\\n",
       "0   63       1   1       145   233    1        2      150      0      2.3   \n",
       "1   67       1   4       160   286    0        2      108      1      1.5   \n",
       "2   67       1   4       120   229    0        2      129      1      2.6   \n",
       "3   37       1   3       130   250    0        0      187      0      3.5   \n",
       "4   41       0   2       130   204    0        2      172      0      1.4   \n",
       "\n",
       "   slope  ca  thal  num  \n",
       "0      3   0     6    0  \n",
       "1      2   3     3    2  \n",
       "2      2   2     7    1  \n",
       "3      3   0     3    0  \n",
       "4      1   0     3    0  "
      ]
     },
     "execution_count": 2,
     "metadata": {},
     "output_type": "execute_result"
    }
   ],
   "source": [
    "df = pd.read_csv('cleveland_data.csv')\n",
    "df.head()"
   ]
  },
  {
   "cell_type": "markdown",
   "metadata": {},
   "source": [
    "## 2. Feature Selection\n",
    "\n",
    "We will list out the columns which we will consider to be relevant to making accurate predictions, and also the target variable."
   ]
  },
  {
   "cell_type": "code",
   "execution_count": 126,
   "metadata": {},
   "outputs": [
    {
     "data": {
      "text/plain": [
       "['age',\n",
       " 'gender',\n",
       " 'cp',\n",
       " 'trestbps',\n",
       " 'chol',\n",
       " 'fbs',\n",
       " 'restecg',\n",
       " 'thalach',\n",
       " 'exang',\n",
       " 'oldpeak',\n",
       " 'slope',\n",
       " 'ca',\n",
       " 'thal']"
      ]
     },
     "execution_count": 126,
     "metadata": {},
     "output_type": "execute_result"
    }
   ],
   "source": [
    "# The features are all the first 13 columns\n",
    "\n",
    "# Taking all the 13 features gives about 60% test accuracy\n",
    "features = list(df.columns[:13])\n",
    "features"
   ]
  },
  {
   "cell_type": "code",
   "execution_count": 127,
   "metadata": {},
   "outputs": [],
   "source": [
    "# Target Variable is the last column\n",
    "target = 'num'"
   ]
  },
  {
   "cell_type": "code",
   "execution_count": 128,
   "metadata": {},
   "outputs": [],
   "source": [
    "# Load the X and the Y variables\n",
    "\n",
    "X = df[features]\n",
    "Y = df[target]"
   ]
  },
  {
   "cell_type": "markdown",
   "metadata": {},
   "source": [
    "## 3. Test Train Split\n",
    "\n",
    "We split the entire dataset into a testing and a training datasets.\n",
    "\n",
    "* The `Train` dataset will be used during the training phase to optimize the algorithm\n",
    "* The `Test` dataset will be used to validate the model on unseen data"
   ]
  },
  {
   "cell_type": "code",
   "execution_count": 129,
   "metadata": {},
   "outputs": [],
   "source": [
    "# Here we split the rows of the dataset randomly between the train and test set, and the split between the two will be a 80% - 20% between the train and test sets respectively\n",
    "\n",
    "X_train, X_test, Y_train, Y_test = train_test_split(X, Y, test_size=0.2, random_state=101)"
   ]
  },
  {
   "cell_type": "markdown",
   "metadata": {},
   "source": [
    "## 4. Building and Training the Classifier Models\n",
    "\n",
    "In this section, we build the Decision tree models, and also implement their training process."
   ]
  },
  {
   "cell_type": "markdown",
   "metadata": {},
   "source": [
    "### 4.1 `ID3` Decision Tree\n",
    "\n",
    "This uses the `information gain` or `entropy` for the attribute selection process on each level of the splitting process."
   ]
  },
  {
   "cell_type": "code",
   "execution_count": 130,
   "metadata": {},
   "outputs": [],
   "source": [
    "# Initialize the Classifier model with maximum depth of 5 layers to prevent overfitting\n",
    "\n",
    "id3_classifier = DecisionTreeClassifier(criterion=\"entropy\", random_state=42, max_depth=6, min_samples_leaf=5)"
   ]
  },
  {
   "cell_type": "code",
   "execution_count": 131,
   "metadata": {},
   "outputs": [],
   "source": [
    "# Fit the model on the train set\n",
    "# Training Phase\n",
    "\n",
    "id3_classifier = id3_classifier.fit(X_train, Y_train)"
   ]
  },
  {
   "cell_type": "markdown",
   "metadata": {},
   "source": [
    "### 4.2 `CART` Decision Tree\n",
    "\n",
    "This uses the `Gini Index` for the attribute selection process on each level of the splitting process."
   ]
  },
  {
   "cell_type": "code",
   "execution_count": 155,
   "metadata": {},
   "outputs": [],
   "source": [
    "# Initialize the Classifier model\n",
    "# criterion:'gini' is also the default value, so we can also leave this field while creating the model.\n",
    "# This has been initialized with maximum depth of 6 layers to prevent overfitting\n",
    "\n",
    "cart_classifier = DecisionTreeClassifier(criterion=\"gini\", random_state=101, max_depth=6, min_samples_leaf=5)"
   ]
  },
  {
   "cell_type": "code",
   "execution_count": 156,
   "metadata": {},
   "outputs": [],
   "source": [
    "# Fit the model on the train set\n",
    "# Training Phase\n",
    "\n",
    "cart_classifier = cart_classifier.fit(X_train, Y_train)"
   ]
  },
  {
   "cell_type": "markdown",
   "metadata": {},
   "source": [
    "## 5. Evaluation of the Models\n",
    "\n",
    "Here we test the models that we have trained earlier, and then show their individual scores and metrics."
   ]
  },
  {
   "cell_type": "markdown",
   "metadata": {},
   "source": [
    "### 5.1 `ID3` Decision Tree"
   ]
  },
  {
   "cell_type": "code",
   "execution_count": 134,
   "metadata": {},
   "outputs": [],
   "source": [
    "# Find the training Accuracy of the model\n",
    "\n",
    "id3_train__y_pred = id3_classifier.predict(X_train)"
   ]
  },
  {
   "cell_type": "code",
   "execution_count": 135,
   "metadata": {},
   "outputs": [
    {
     "name": "stdout",
     "output_type": "stream",
     "text": [
      "Train Accuracy of the ID3 Model :  0.7468354430379747\n"
     ]
    }
   ],
   "source": [
    "# Calculate the accuracy of this model\n",
    "\n",
    "id3_train_accuracy = metrics.accuracy_score(Y_train, id3_train__y_pred)\n",
    "print(\"Train Accuracy of the ID3 Model : \", id3_train_accuracy)"
   ]
  },
  {
   "cell_type": "code",
   "execution_count": 136,
   "metadata": {},
   "outputs": [],
   "source": [
    "# Predict the outputs for the test set\n",
    "\n",
    "id3_y_pred = id3_classifier.predict(X_test)"
   ]
  },
  {
   "cell_type": "code",
   "execution_count": 137,
   "metadata": {},
   "outputs": [
    {
     "name": "stdout",
     "output_type": "stream",
     "text": [
      "Test Accuracy of the ID3 Model :  0.55\n"
     ]
    }
   ],
   "source": [
    "# Calculate the test accuracy of this model\n",
    "\n",
    "id3_accuracy = metrics.accuracy_score(Y_test, id3_y_pred)\n",
    "print(\"Test Accuracy of the ID3 Model : \", id3_accuracy)"
   ]
  },
  {
   "cell_type": "code",
   "execution_count": 138,
   "metadata": {},
   "outputs": [
    {
     "name": "stdout",
     "output_type": "stream",
     "text": [
      "Confusion Matrix of the ID3 model is : \n",
      " [[30  4  1  5  0]\n",
      " [ 6  0  1  2  1]\n",
      " [ 2  1  1  1  2]\n",
      " [ 0  0  1  2  0]\n",
      " [ 0  0  0  0  0]]\n"
     ]
    }
   ],
   "source": [
    "# Print the Confusion Matrix of the results from the test set\n",
    "\n",
    "print(\"Confusion Matrix of the ID3 model is : \\n\", metrics.confusion_matrix(Y_test, id3_y_pred))"
   ]
  },
  {
   "cell_type": "code",
   "execution_count": 158,
   "metadata": {},
   "outputs": [
    {
     "name": "stdout",
     "output_type": "stream",
     "text": [
      "Classification Report of the ID3 model is : \n",
      "               precision    recall  f1-score   support\n",
      "\n",
      "           0       0.79      0.75      0.77        40\n",
      "           1       0.00      0.00      0.00        10\n",
      "           2       0.25      0.14      0.18         7\n",
      "           3       0.20      0.67      0.31         3\n",
      "           4       0.00      0.00      0.00         0\n",
      "\n",
      "    accuracy                           0.55        60\n",
      "   macro avg       0.25      0.31      0.25        60\n",
      "weighted avg       0.57      0.55      0.55        60\n",
      "\n"
     ]
    }
   ],
   "source": [
    "# Print the Classification Report\n",
    "\n",
    "print(\"Classification Report of the ID3 model is : \\n\", metrics.classification_report(Y_test, id3_y_pred))"
   ]
  },
  {
   "cell_type": "markdown",
   "metadata": {},
   "source": [
    "### 5.2 `CART` Decision Tree"
   ]
  },
  {
   "cell_type": "code",
   "execution_count": 159,
   "metadata": {},
   "outputs": [],
   "source": [
    "# Find the training Accuracy of the model\n",
    "\n",
    "cart_train__y_pred = cart_classifier.predict(X_train)"
   ]
  },
  {
   "cell_type": "code",
   "execution_count": 160,
   "metadata": {},
   "outputs": [
    {
     "name": "stdout",
     "output_type": "stream",
     "text": [
      "Train Accuracy of the CART Model :  0.7510548523206751\n"
     ]
    }
   ],
   "source": [
    "# Calculate the accuracy of this model\n",
    "\n",
    "cart_train_accuracy = metrics.accuracy_score(Y_train, cart_train__y_pred)\n",
    "print(\"Train Accuracy of the CART Model : \", cart_train_accuracy)"
   ]
  },
  {
   "cell_type": "code",
   "execution_count": 161,
   "metadata": {},
   "outputs": [],
   "source": [
    "# Predict the outputs for the test set\n",
    "\n",
    "cart_y_pred = cart_classifier.predict(X_test)"
   ]
  },
  {
   "cell_type": "code",
   "execution_count": 162,
   "metadata": {},
   "outputs": [
    {
     "name": "stdout",
     "output_type": "stream",
     "text": [
      "Test Accuracy of the CART Model :  0.6\n"
     ]
    }
   ],
   "source": [
    "# Calculate the test accuracy of this model\n",
    "\n",
    "cart_accuracy = metrics.accuracy_score(Y_test, cart_y_pred)\n",
    "print(\"Test Accuracy of the CART Model : \", cart_accuracy)"
   ]
  },
  {
   "cell_type": "code",
   "execution_count": 163,
   "metadata": {},
   "outputs": [
    {
     "name": "stdout",
     "output_type": "stream",
     "text": [
      "Confusion Matrix of the CART model is : \n",
      " [[33  5  1  1  0]\n",
      " [ 6  1  2  1  0]\n",
      " [ 2  1  1  2  1]\n",
      " [ 0  0  2  1  0]\n",
      " [ 0  0  0  0  0]]\n"
     ]
    }
   ],
   "source": [
    "# Print the Confusion Matrix of the results from the test set\n",
    "\n",
    "print(\"Confusion Matrix of the CART model is : \\n\", metrics.confusion_matrix(Y_test, cart_y_pred))"
   ]
  },
  {
   "cell_type": "code",
   "execution_count": 165,
   "metadata": {},
   "outputs": [
    {
     "name": "stdout",
     "output_type": "stream",
     "text": [
      "Classification Report of the CART model is : \n",
      "               precision    recall  f1-score   support\n",
      "\n",
      "           0       0.80      0.82      0.81        40\n",
      "           1       0.14      0.10      0.12        10\n",
      "           2       0.17      0.14      0.15         7\n",
      "           3       0.20      0.33      0.25         3\n",
      "           4       0.00      0.00      0.00         0\n",
      "\n",
      "    accuracy                           0.60        60\n",
      "   macro avg       0.26      0.28      0.27        60\n",
      "weighted avg       0.59      0.60      0.59        60\n",
      "\n"
     ]
    }
   ],
   "source": [
    "# Print the Classification Report\n",
    "\n",
    "print(\"Classification Report of the CART model is : \\n\", metrics.classification_report(Y_test, cart_y_pred))"
   ]
  },
  {
   "cell_type": "markdown",
   "metadata": {},
   "source": [
    "## 6. Results"
   ]
  },
  {
   "cell_type": "code",
   "execution_count": 147,
   "metadata": {},
   "outputs": [
    {
     "name": "stdout",
     "output_type": "stream",
     "text": [
      "Train Accuracy of the ID3 Model :  0.7468354430379747\n",
      "Train Accuracy of the CART Model :  0.7510548523206751\n"
     ]
    }
   ],
   "source": [
    "# Print Training Accuracies\n",
    "\n",
    "print(\"Train Accuracy of the ID3 Model : \", id3_train_accuracy)\n",
    "print(\"Train Accuracy of the CART Model : \", cart_train_accuracy)"
   ]
  },
  {
   "cell_type": "code",
   "execution_count": 148,
   "metadata": {},
   "outputs": [
    {
     "name": "stdout",
     "output_type": "stream",
     "text": [
      "Test Accuracy of the ID3 Model :  0.55\n",
      "Test Accuracy of the CART Model :  0.6\n"
     ]
    }
   ],
   "source": [
    "# Print Test set Accuracies\n",
    "\n",
    "print(\"Test Accuracy of the ID3 Model : \", id3_accuracy)\n",
    "print(\"Test Accuracy of the CART Model : \", cart_accuracy)"
   ]
  },
  {
   "cell_type": "markdown",
   "metadata": {},
   "source": [
    "**Conclusion :**\n",
    "We can notice here that the `CART` model which uses the `GINI` index has achieved slightly greater accuracy than the `ID3` model which uses `Entropy`."
   ]
  },
  {
   "cell_type": "code",
   "execution_count": null,
   "metadata": {},
   "outputs": [],
   "source": []
  }
 ],
 "metadata": {
  "kernelspec": {
   "display_name": "Python 3",
   "language": "python",
   "name": "python3"
  },
  "language_info": {
   "codemirror_mode": {
    "name": "ipython",
    "version": 3
   },
   "file_extension": ".py",
   "mimetype": "text/x-python",
   "name": "python",
   "nbconvert_exporter": "python",
   "pygments_lexer": "ipython3",
   "version": "3.8.3"
  }
 },
 "nbformat": 4,
 "nbformat_minor": 4
}
