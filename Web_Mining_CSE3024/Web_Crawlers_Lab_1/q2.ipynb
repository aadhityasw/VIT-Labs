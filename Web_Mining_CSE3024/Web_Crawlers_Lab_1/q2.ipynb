{
 "cells": [
  {
   "cell_type": "markdown",
   "metadata": {
    "id": "CWqmMcIMavgl"
   },
   "source": [
    "# Question 2\n",
    "\n",
    "Find documents that contain the word `Data` and the word `analytics` within the URL `vit.ac.in` using Python."
   ]
  },
  {
   "cell_type": "code",
   "execution_count": 1,
   "metadata": {
    "id": "dp3htg61avgu"
   },
   "outputs": [],
   "source": [
    "import requests\n",
    "from bs4 import BeautifulSoup\n",
    "import re"
   ]
  },
  {
   "cell_type": "code",
   "execution_count": 2,
   "metadata": {
    "id": "LPwvbiTYavgv"
   },
   "outputs": [],
   "source": [
    "root_URL = \"http://www.vit.ac.in\"\n",
    "search_words = ['data', 'analytics']"
   ]
  },
  {
   "cell_type": "code",
   "execution_count": 3,
   "metadata": {
    "colab": {
     "base_uri": "https://localhost:8080/"
    },
    "id": "VQeCLFbMavgw",
    "outputId": "2598cdbb-2991-4a94-e226-e99462225fcb"
   },
   "outputs": [
    {
     "name": "stdout",
     "output_type": "stream",
     "text": [
      "Status of the response :  200\n"
     ]
    }
   ],
   "source": [
    "# Use the requests library to retrieve the web page of the root URL\n",
    "\n",
    "response = requests.get(root_URL)\n",
    "print(\"Status of the response : \", response.status_code)"
   ]
  },
  {
   "cell_type": "code",
   "execution_count": 4,
   "metadata": {
    "id": "OwhflZAnavgx"
   },
   "outputs": [],
   "source": [
    "# Use the Beautiful Soap library to parse the retrieved web page\n",
    "\n",
    "root_page = BeautifulSoup(response.content, 'html.parser')"
   ]
  },
  {
   "cell_type": "code",
   "execution_count": 22,
   "metadata": {
    "id": "Y4rxur4_avgy"
   },
   "outputs": [],
   "source": [
    "# Retrieve all the anchor tags to the sub-pages by retrieving all the `<a>` tags\n",
    "\n",
    "anchor_tags = root_page.find_all('a')"
   ]
  },
  {
   "cell_type": "code",
   "execution_count": 23,
   "metadata": {
    "id": "0ttJFIgOyAMS"
   },
   "outputs": [],
   "source": [
    "# Accumulate all the unique links from the anchor tags with valid syntax (starts with http, and not just inter page reference)\n",
    "\n",
    "valid_links = []\n",
    "\n",
    "for anchor_tag in anchor_tags :\n",
    "    link = anchor_tag['href']\n",
    "    if link.startswith(\"http\") :\n",
    "        if link not in valid_links :\n",
    "            valid_links.append(link)"
   ]
  },
  {
   "cell_type": "code",
   "execution_count": 25,
   "metadata": {
    "colab": {
     "base_uri": "https://localhost:8080/"
    },
    "id": "zLVgENfuyzmV",
    "outputId": "d7d778f6-229f-4b6f-d627-5ad8e3e68b11"
   },
   "outputs": [
    {
     "name": "stdout",
     "output_type": "stream",
     "text": [
      "The number of documents/pages linked to the current root page is :  133\n"
     ]
    }
   ],
   "source": [
    "print(\"The number of documents/pages linked to the current root page is : \", len(valid_links))"
   ]
  },
  {
   "cell_type": "code",
   "execution_count": 26,
   "metadata": {
    "id": "vtzYGlgix5Ou"
   },
   "outputs": [],
   "source": [
    "# Arrays to store the links\n",
    "\n",
    "result = []\n",
    "failed = []"
   ]
  },
  {
   "cell_type": "code",
   "execution_count": 27,
   "metadata": {
    "colab": {
     "base_uri": "https://localhost:8080/"
    },
    "id": "ZHxdU5Blydx0",
    "outputId": "2d3a1bf8-4be3-4f58-bc4b-4f73f0f952c8"
   },
   "outputs": [
    {
     "name": "stderr",
     "output_type": "stream",
     "text": [
      "/usr/local/lib/python3.6/dist-packages/urllib3/connectionpool.py:847: InsecureRequestWarning: Unverified HTTPS request is being made. Adding certificate verification is strongly advised. See: https://urllib3.readthedocs.io/en/latest/advanced-usage.html#ssl-warnings\n",
      "  InsecureRequestWarning)\n",
      "/usr/local/lib/python3.6/dist-packages/urllib3/connectionpool.py:847: InsecureRequestWarning: Unverified HTTPS request is being made. Adding certificate verification is strongly advised. See: https://urllib3.readthedocs.io/en/latest/advanced-usage.html#ssl-warnings\n",
      "  InsecureRequestWarning)\n",
      "/usr/local/lib/python3.6/dist-packages/urllib3/connectionpool.py:847: InsecureRequestWarning: Unverified HTTPS request is being made. Adding certificate verification is strongly advised. See: https://urllib3.readthedocs.io/en/latest/advanced-usage.html#ssl-warnings\n",
      "  InsecureRequestWarning)\n",
      "/usr/local/lib/python3.6/dist-packages/urllib3/connectionpool.py:847: InsecureRequestWarning: Unverified HTTPS request is being made. Adding certificate verification is strongly advised. See: https://urllib3.readthedocs.io/en/latest/advanced-usage.html#ssl-warnings\n",
      "  InsecureRequestWarning)\n"
     ]
    }
   ],
   "source": [
    "# Check if the word \"admission\" is present in each page, and if so then save its URL\n",
    "\n",
    "for link in valid_links :\n",
    "    try :\n",
    "        page = requests.get(link).text\n",
    "    except requests.ConnectionError :\n",
    "        try :\n",
    "            page = requests.get(link, verify=False).text\n",
    "        except :\n",
    "            failed.append(link)\n",
    "            continue\n",
    "    \n",
    "    if (re.search(search_words[0], page, re.IGNORECASE)) and (re.search(search_words[1], page, re.IGNORECASE)) :\n",
    "            result.append(link)"
   ]
  },
  {
   "cell_type": "code",
   "execution_count": 28,
   "metadata": {
    "colab": {
     "base_uri": "https://localhost:8080/"
    },
    "id": "3eEGS97-avgz",
    "outputId": "4eaaf382-8931-4073-d60c-6a639eaf53c9"
   },
   "outputs": [
    {
     "name": "stdout",
     "output_type": "stream",
     "text": [
      "The links in the root URL page which contains the word 'data', and 'analytics' are :\n",
      "\t http://chennai.vit.ac.in/\n",
      "\t https://vitap.ac.in/\n",
      "\t https://vitbhopal.ac.in/\n",
      "\t https://vit.ac.in\n",
      "\t https://vit.ac.in/about-vit\n",
      "\t https://vit.ac.in/about/vision-mission\n",
      "\t https://vit.ac.in/vit-milestones\n",
      "\t https://vit.ac.in/about/leadership\n",
      "\t https://vit.ac.in/governance\n",
      "\t https://vit.ac.in/about/administrative-offices\n",
      "\t https://vit.ac.in/about/infrastructure\n",
      "\t https://vit.ac.in/about/ranking-and-accreditation\n",
      "\t https://vit.ac.in/about/sustainability\n",
      "\t https://vit.ac.in/true-green\n",
      "\t https://vit.ac.in/about/community-outreach\n",
      "\t https://vit.ac.in/about/communityradio\n",
      "\t https://vit.ac.in/all-news-archieved\n",
      "\t https://vit.ac.in/all-events\n",
      "\t https://vit.ac.in/national-institutional-ranking-framework-nirf\n",
      "\t https://vit.ac.in/mhrdugc\n",
      "\t http://careers.vit.ac.in/\n",
      "\t https://vit.ac.in/about/news-letter\n",
      "\t https://vit.ac.in/academics/home\n",
      "\t https://vit.ac.in/programmes-offered-2019-20\n",
      "\t https://vit.ac.in/schools\n",
      "\t https://vit.ac.in/academics/ffcs\n",
      "\t https://vit.ac.in/academics-feedback\n",
      "\t https://vit.ac.in/admissions/overview\n",
      "\t https://vit.ac.in/admissions/programmes-offered\n",
      "\t https://vit.ac.in/all-courses/ug\n",
      "\t https://vit.ac.in/all-courses/pg\n",
      "\t https://vit.ac.in/admissions/research\n",
      "\t https://vit.ac.in/admissions/international\n",
      "\t https://vit.ac.in/stars-support-advancement-rural-students-0\n",
      "\t https://vit.ac.in/placements/overview\n",
      "\t https://vit.ac.in/placements/superdreamoffers\n",
      "\t https://vit.ac.in/placements/dreamoffers\n",
      "\t https://vit.ac.in/placements/internship\n",
      "\t https://vit.ac.in/placements/statistics\n",
      "\t https://vit.ac.in/placements/pat-Office\n",
      "\t https://vit.ac.in/placement-contact\n",
      "\t https://vit.ac.in/InternationalRelations\n",
      "\t https://vit.ac.in/internationalrelations/itp\n",
      "\t https://vit.ac.in/internationalrelations/partneruniversities\n",
      "\t https://vit.ac.in/internationalrelations/sap\n",
      "\t https://vit.ac.in/admissions/international/overview\n",
      "\t https://vit.ac.in/academics-more/Contact us\n",
      "\t https://vit.ac.in/research\n",
      "\t https://vit.ac.in/research/academic\n",
      "\t https://vit.ac.in/research/centers-list\n",
      "\t https://vit.ac.in/research/sponsored-research\n",
      "\t https://vit.ac.in/campuslife/overview\n",
      "\t https://vit.ac.in/campuslife/fests\n",
      "\t https://vit.ac.in/campuslife/studentswelfare\n",
      "\t https://vit.ac.in/academics/library\n",
      "\t https://vit.ac.in/campuslife/sports\n",
      "\t https://vit.ac.in/campuslife/hostels\n",
      "\t https://vit.ac.in/campuslife/startups\n",
      "\t https://vit.ac.in/campuslife/healthservices\n",
      "\t https://vit.ac.in/campuslife/otheramenities\n",
      "\t https://vit.ac.in/detailview/green-vit\n",
      "\t https://vit.ac.in/academics/coe\n",
      "\t https://vit.ac.in/transcripts-alumni\n",
      "\t https://vit.ac.in/centers/asc\n",
      "\t http://www.vittbi.com/#/\n",
      "\t https://vit.ac.in/campus-category/Counselling-Division\n",
      "\t https://vit.ac.in/guest-house\n",
      "\t https://vit.ac.in/redressal\n",
      "\t https://vit.ac.in/hotels-in-vellore\n",
      "\t https://vit.ac.in/anti-ragging-committee\n",
      "\t https://vit.ac.in/capability-enhancement-scheme\n",
      "\t https://vit.ac.in/internal-complaints-committee\n",
      "\t https://vit.ac.in/academics/transcripts\n",
      "\t https://vit.ac.in/instruction\n",
      "\t http://www.vitaa.org/\n",
      "\t https://campustour.vit.ac.in/\n",
      "\t https://vit.ac.in/vit-among-top-9-institutions-india-shanghai-world-universities-ranking-2020\n",
      "\t https://www.facebook.com/VITuniversity/\n",
      "\t https://vit.ac.in/school-electronics-engineering-sense/2nd-international-conference-microelectronic-devices-circuits\n",
      "\t https://vit.ac.in/school-bio-sciences-technology-sbst/agricultural-biotechnology-quality-assurance-and-testing-tissue\n",
      "\t https://vit.ac.in/school-advanced-sciences-sas/6th-biennial-international-group-theory-conference-2021\n",
      "\t https://vit.ac.in/general/world-nano-congress-advanced-science-and-technology-2021\n",
      "\t https://vit.ac.in/research-interests-eligible-guides-dec-2020-phd-session\n",
      "\t https://vit.ac.in/detailview/35th-annual-convocation\n",
      "\t https://vit.ac.in/detailview/vit-wishes-warm-%E2%80%98happy-birthday%E2%80%99-our-honourable-chancellor\n",
      "\t https://www.vidyalakshmi.co.in/Students/\n",
      "\t http://info.vit.ac.in/CDAC/html/index3.html\n",
      "\t https://vit.ac.in/52nd-death-anniversary-dr-c-n-annadurai-former-chief-minister-tamil-nadu-0\n",
      "\t https://vit.ac.in/72nd-republic-day-celebration-0\n",
      "\t https://vit.ac.in/great-placements-vit-students-inspite-pandemic\n",
      "\t https://vit.ac.in/smt-rajeswari-viswanathan-memorial-inter-school-tournament-and-honouring-staff-vellore-corporation\n",
      "\t https://vit.ac.in/galleries\n",
      "\t http://campustour.vit.ac.in/\n",
      "\t https://vit.ac.in/video\n",
      "\t https://vit.ac.in/campus-hostel/hostels\n",
      "\t https://vit.ac.in/vit-institution-eminence-ioe\n",
      "\t https://vit.ac.in/iprcell\n",
      "\t https://vit.ac.in/campus-category/grievancecell\n",
      "\t https://vit.ac.in/academics/iqac\n",
      "\t https://vitap.ac.in/careers/\n",
      "\t http://www.vitaa.org\n",
      "\t https://vit.ac.in/contactus\n"
     ]
    }
   ],
   "source": [
    "print(\"The links in the root URL page which contains the word 'data', and 'analytics' are :\")\n",
    "for url in result :\n",
    "    print(\"\\t\", url)"
   ]
  },
  {
   "cell_type": "code",
   "execution_count": 29,
   "metadata": {
    "colab": {
     "base_uri": "https://localhost:8080/"
    },
    "id": "avl_kW85zH6q",
    "outputId": "535f8519-72f9-4612-9205-4e34a6ffbe6b"
   },
   "outputs": [
    {
     "name": "stdout",
     "output_type": "stream",
     "text": [
      "The links that we failed to open are : \n",
      "\t http://intranet.vit.ac.in\n"
     ]
    }
   ],
   "source": [
    "print(\"The links that we failed to open are : \")\n",
    "for url in failed :\n",
    "  print(\"\\t\", url)"
   ]
  },
  {
   "cell_type": "code",
   "execution_count": null,
   "metadata": {
    "id": "MjPyg4gNvGlN"
   },
   "outputs": [],
   "source": []
  }
 ],
 "metadata": {
  "accelerator": "GPU",
  "colab": {
   "collapsed_sections": [],
   "name": "q2.ipynb",
   "provenance": []
  },
  "kernelspec": {
   "display_name": "Python 3",
   "language": "python",
   "name": "python3"
  },
  "language_info": {
   "codemirror_mode": {
    "name": "ipython",
    "version": 3
   },
   "file_extension": ".py",
   "mimetype": "text/x-python",
   "name": "python",
   "nbconvert_exporter": "python",
   "pygments_lexer": "ipython3",
   "version": "3.8.3"
  }
 },
 "nbformat": 4,
 "nbformat_minor": 4
}
