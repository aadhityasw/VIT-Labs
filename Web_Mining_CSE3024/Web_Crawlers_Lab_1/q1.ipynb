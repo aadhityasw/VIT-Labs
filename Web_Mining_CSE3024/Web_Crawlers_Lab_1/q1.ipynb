{
 "cells": [
  {
   "cell_type": "markdown",
   "metadata": {},
   "source": [
    "# Question 1\n",
    "\n",
    "Given a root URL, e.g., `vit.ac.in`, Design a simple crawler using Python to return all pages that contains a string `admissions` from this site."
   ]
  },
  {
   "cell_type": "code",
   "execution_count": 3,
   "metadata": {},
   "outputs": [],
   "source": [
    "import requests\n",
    "from bs4 import BeautifulSoup\n",
    "import re"
   ]
  },
  {
   "cell_type": "code",
   "execution_count": 4,
   "metadata": {},
   "outputs": [],
   "source": [
    "root_URL = \"http://www.vit.ac.in\"\n",
    "search_word = \"admissions\""
   ]
  },
  {
   "cell_type": "code",
   "execution_count": 5,
   "metadata": {},
   "outputs": [
    {
     "name": "stdout",
     "output_type": "stream",
     "text": [
      "Status of the response :  200\n"
     ]
    }
   ],
   "source": [
    "# Use the requests library to retrieve the web page of the root URL\n",
    "\n",
    "response = requests.get(root_URL)\n",
    "print(\"Status of the response : \", response.status_code)"
   ]
  },
  {
   "cell_type": "code",
   "execution_count": 6,
   "metadata": {},
   "outputs": [],
   "source": [
    "# Use the Beautiful Soap library to parse the retrieved web page\n",
    "\n",
    "root_page = BeautifulSoup(response.content, 'html.parser')"
   ]
  },
  {
   "cell_type": "code",
   "execution_count": 7,
   "metadata": {},
   "outputs": [],
   "source": [
    "# Retrieve all the links to the sub-pages by retrieving all the `<a>` tags\n",
    "\n",
    "anchor_tags = root_page.find_all('a')\n",
    "\n",
    "result = []\n",
    "\n",
    "# Check if the word \"admission\" is present in each page, and if so then save its URL\n",
    "for anchor_tag in anchor_tags :\n",
    "    link = anchor_tag['href']\n",
    "    if re.search(search_word, link, re.IGNORECASE) :\n",
    "        result.append(link)"
   ]
  },
  {
   "cell_type": "code",
   "execution_count": 11,
   "metadata": {},
   "outputs": [
    {
     "name": "stdout",
     "output_type": "stream",
     "text": [
      "The links in the root URL page which contains the word 'admissions' are :\n",
      "\t https://vit.ac.in/admissions/overview\n",
      "\t https://vit.ac.in/admissions/overview\n",
      "\t https://vit.ac.in/admissions/programmes-offered\n",
      "\t https://vit.ac.in/admissions/research\n",
      "\t https://vit.ac.in/admissions/international\n",
      "\t https://vit.ac.in/admissions/international/overview\n",
      "\t https://admissions.vit.ac.in/pgapplication/\n",
      "\t https://admissions.vit.ac.in/irapplicationug/\n",
      "\t https://admissions.vit.ac.in/irapplicationug/\n",
      "\t https://admissions.vit.ac.in/pgapplication/\n",
      "\t https://admissions.vit.ac.in/pgirapplication/\n",
      "\t https://vit.ac.in/files/MBA_online_interview/MBA-2020-Admissions-online-interview-candidates-date-and-time-schedule.pdf\n",
      "\t https://vit.ac.in/admissions/programmes-offered\n"
     ]
    }
   ],
   "source": [
    "print(\"The links in the root URL page which contains the word 'admissions' are :\")\n",
    "for url in result :\n",
    "    print(\"\\t\", url)"
   ]
  },
  {
   "cell_type": "code",
   "execution_count": null,
   "metadata": {},
   "outputs": [],
   "source": []
  }
 ],
 "metadata": {
  "kernelspec": {
   "display_name": "Python 3",
   "language": "python",
   "name": "python3"
  },
  "language_info": {
   "codemirror_mode": {
    "name": "ipython",
    "version": 3
   },
   "file_extension": ".py",
   "mimetype": "text/x-python",
   "name": "python",
   "nbconvert_exporter": "python",
   "pygments_lexer": "ipython3",
   "version": "3.8.3"
  }
 },
 "nbformat": 4,
 "nbformat_minor": 4
}
