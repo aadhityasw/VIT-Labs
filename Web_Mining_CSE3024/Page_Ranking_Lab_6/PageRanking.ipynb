{
 "cells": [
  {
   "cell_type": "markdown",
   "metadata": {},
   "source": [
    "# Page Ranking\n",
    "\n",
    "* Implement the basic PageRank algorithm using Python to display the rank of 5 pages.\n",
    "* Verify the consistency of results obtained with Random walk and inbuilt PageRank function\n",
    "\n",
    "![image.png](./image.png)"
   ]
  },
  {
   "cell_type": "markdown",
   "metadata": {},
   "source": [
    "## 1. Model the Query Graph\n",
    "\n",
    "We will create an adjacency matrix that denotes the edjes between the nodes."
   ]
  },
  {
   "cell_type": "code",
   "execution_count": 1,
   "metadata": {},
   "outputs": [],
   "source": [
    "adjacency_matrix = [\n",
    "    [0, 1, 1, 0, 0],\n",
    "    [0, 0, 0, 0, 1],\n",
    "    [0, 1, 0, 0, 0],\n",
    "    [1, 1, 1, 0, 0],\n",
    "    [1, 0, 0, 1, 0]\n",
    "]"
   ]
  },
  {
   "cell_type": "code",
   "execution_count": 2,
   "metadata": {},
   "outputs": [],
   "source": [
    "num_vertices = 5"
   ]
  },
  {
   "cell_type": "code",
   "execution_count": 3,
   "metadata": {},
   "outputs": [],
   "source": [
    "# list of nodes\n",
    "\n",
    "vertices_list = ['v1', 'v2', 'v3', 'v4', 'v5']"
   ]
  },
  {
   "cell_type": "markdown",
   "metadata": {},
   "source": [
    "## 2. Use the Networkx Library to rank the pages\n",
    "\n",
    "We will be using the `networkx` library to create a graph instance and then rank these nodes.\n",
    "The Nodes in the graph are the pages and the links between them are the hyperlinks that are available between the pages, which serve as a medium through which they are connected.\n",
    "\n",
    "<br>\n",
    "\n",
    "[Reference Material](https://medium.com/sicara/fraud-detection-personalized-page-rank-networkx-15bd52ba2bf6)"
   ]
  },
  {
   "cell_type": "code",
   "execution_count": 4,
   "metadata": {},
   "outputs": [],
   "source": [
    "# Import the Networkx Library for forming the graph\n",
    "import networkx as nx\n",
    "\n",
    "# Import the Pyplot library for plotting the created graph\n",
    "from matplotlib import pyplot as plt"
   ]
  },
  {
   "cell_type": "code",
   "execution_count": 5,
   "metadata": {},
   "outputs": [],
   "source": [
    "# Create an instance of the Graph class\n",
    "# We are using a Directed graph due to the nature of our problem.\n",
    "\n",
    "graph = nx.DiGraph()"
   ]
  },
  {
   "cell_type": "code",
   "execution_count": 6,
   "metadata": {},
   "outputs": [],
   "source": [
    "# Load the nodes into the graph\n",
    "\n",
    "graph.add_nodes_from(vertices_list)"
   ]
  },
  {
   "cell_type": "code",
   "execution_count": 7,
   "metadata": {},
   "outputs": [],
   "source": [
    "# Add the edges from the adjacency matrix\n",
    "\n",
    "for i in range(num_vertices) :\n",
    "    for j in range(num_vertices) :\n",
    "        if adjacency_matrix[i][j] == 1 :\n",
    "            graph.add_edge(vertices_list[i], vertices_list[j])"
   ]
  },
  {
   "cell_type": "code",
   "execution_count": 8,
   "metadata": {},
   "outputs": [
    {
     "data": {
      "image/png": "[encoded data removed]",
      "text/plain": [
       "<Figure size 432x288 with 1 Axes>"
      ]
     },
     "metadata": {},
     "output_type": "display_data"
    }
   ],
   "source": [
    "# Draw generated graph\n",
    "\n",
    "nx.draw_networkx(graph, pos=nx.circular_layout(graph), arrows=True, with_labels=True)\n",
    "plt.show()"
   ]
  },
  {
   "cell_type": "code",
   "execution_count": 9,
   "metadata": {},
   "outputs": [
    {
     "name": "stdout",
     "output_type": "stream",
     "text": [
      "The page ranks are :\n",
      "\n"
     ]
    },
    {
     "data": {
      "text/plain": [
       "{'v1': 0.18064505060873787,\n",
       " 'v2': 0.2713164308772404,\n",
       " 'v3': 0.14665711544131715,\n",
       " 'v4': 0.14076233474848301,\n",
       " 'v5': 0.26061906832422166}"
      ]
     },
     "execution_count": 9,
     "metadata": {},
     "output_type": "execute_result"
    }
   ],
   "source": [
    "# Compute the page ranks\n",
    "\n",
    "page_ranks_networkx = nx.pagerank(graph, alpha=0.85)\n",
    "print(\"The page ranks are :\\n\")\n",
    "page_ranks_networkx"
   ]
  },
  {
   "cell_type": "code",
   "execution_count": 10,
   "metadata": {},
   "outputs": [
    {
     "data": {
      "text/plain": [
       "{'v2': 0.2713164308772404,\n",
       " 'v5': 0.26061906832422166,\n",
       " 'v1': 0.18064505060873787,\n",
       " 'v3': 0.14665711544131715,\n",
       " 'v4': 0.14076233474848301}"
      ]
     },
     "execution_count": 10,
     "metadata": {},
     "output_type": "execute_result"
    }
   ],
   "source": [
    "# Sort the pages by their ranks\n",
    "\n",
    "page_ranks_networkx = dict(sorted(page_ranks_networkx.items(), key=lambda item: item[1], reverse=True))\n",
    "page_ranks_networkx"
   ]
  },
  {
   "cell_type": "code",
   "execution_count": 11,
   "metadata": {},
   "outputs": [
    {
     "name": "stdout",
     "output_type": "stream",
     "text": [
      "The Pages in the order of importance with the page rank scores obtained by using NetworkX are : \n",
      "v2 = 0.2713164308772404\n",
      "v5 = 0.26061906832422166\n",
      "v1 = 0.18064505060873787\n",
      "v3 = 0.14665711544131715\n",
      "v4 = 0.14076233474848301\n"
     ]
    }
   ],
   "source": [
    "# Print the pages by the order of their ranks\n",
    "\n",
    "print(\"The Pages in the order of importance with the page rank scores obtained by using NetworkX are : \")\n",
    "for k, v in page_ranks_networkx.items() :\n",
    "    print(k, \"=\", v)"
   ]
  },
  {
   "cell_type": "markdown",
   "metadata": {},
   "source": [
    "## 3. Page Rank with Random Walk\n",
    "\n",
    "We will use the Random walk of graph in order to compute the page rank of these pages.\n",
    "<br>\n",
    "We resort to this approach because this can serve as a validator to the above approach.\n",
    "We essentially perform the operations of the library systematically so as to gain a better knowledge of the inner workings of the algorithm. \n",
    "<br>\n",
    "[Reference Link](https://www.geeksforgeeks.org/page-rank-algorithm-implementation/)"
   ]
  },
  {
   "cell_type": "code",
   "execution_count": 12,
   "metadata": {},
   "outputs": [
    {
     "data": {
      "text/plain": [
       "[2, 1, 1, 3, 2]"
      ]
     },
     "execution_count": 12,
     "metadata": {},
     "output_type": "execute_result"
    }
   ],
   "source": [
    "# Calculate the number of out-bound links for each vertex\n",
    "\n",
    "out_bound_vertices_count = [0 for _ in range(num_vertices)]\n",
    "\n",
    "for i in range(num_vertices) :\n",
    "    out_bound_vertices_count[i] = sum(adjacency_matrix[i])\n",
    "\n",
    "out_bound_vertices_count"
   ]
  },
  {
   "cell_type": "code",
   "execution_count": 13,
   "metadata": {},
   "outputs": [
    {
     "name": "stdout",
     "output_type": "stream",
     "text": [
      "The Out-Bound vertices count for each vertex is as follows : \n",
      "v1  :  2\n",
      "v2  :  1\n",
      "v3  :  1\n",
      "v4  :  3\n",
      "v5  :  2\n"
     ]
    }
   ],
   "source": [
    "print(\"The Out-Bound vertices count for each vertex is as follows : \")\n",
    "for i in range(num_vertices) :\n",
    "    print(vertices_list[i], \" : \", out_bound_vertices_count[i])"
   ]
  },
  {
   "cell_type": "code",
   "execution_count": 14,
   "metadata": {},
   "outputs": [
    {
     "data": {
      "text/plain": [
       "{0: [3, 4], 1: [0, 2, 3], 2: [0, 3], 3: [4], 4: [1]}"
      ]
     },
     "execution_count": 14,
     "metadata": {},
     "output_type": "execute_result"
    }
   ],
   "source": [
    "# List and store all the in-bound vertices for a particular vertex\n",
    "\n",
    "in_bound_vertices_list = {}\n",
    "\n",
    "for i in range(num_vertices) :\n",
    "    in_bound_vertices_list[i] = []\n",
    "    \n",
    "    for j in range(num_vertices) :\n",
    "        if adjacency_matrix[j][i] == 1 :\n",
    "            in_bound_vertices_list[i].append(j)\n",
    "\n",
    "in_bound_vertices_list"
   ]
  },
  {
   "cell_type": "code",
   "execution_count": 15,
   "metadata": {},
   "outputs": [
    {
     "name": "stdout",
     "output_type": "stream",
     "text": [
      "The In-bound vertices for each vertex is as follows : \n",
      "v1  : v4, v5\n",
      "v2  : v1, v3, v4\n",
      "v3  : v1, v4\n",
      "v4  : v5\n",
      "v5  : v2\n"
     ]
    }
   ],
   "source": [
    "print(\"The In-bound vertices for each vertex is as follows : \")\n",
    "\n",
    "for i in range(num_vertices) :\n",
    "    print(vertices_list[i], \" : \", end=\"\")\n",
    "    print(\", \".join([vertices_list[j] for j in in_bound_vertices_list[i]]))"
   ]
  },
  {
   "cell_type": "markdown",
   "metadata": {},
   "source": [
    "The actual Page rank Algorithm"
   ]
  },
  {
   "cell_type": "code",
   "execution_count": 16,
   "metadata": {},
   "outputs": [],
   "source": [
    "def pageRank(graph, vertices_names, in_bound_vertices_list, out_bound_vertices_count, tolerance=1.0e-6, max_iterations=100) :\n",
    "    \"\"\"\n",
    "    Finds and returns the page rank for all the vertices.\n",
    "    The algorithms continues for the maximum number of iterations as specfied(or 100) in case it does not converge.\n",
    "    \n",
    "    Parameters\n",
    "    ----------\n",
    "    \n",
    "    graph : The adjacency matrix of the graph.\n",
    "    vertices_names : The names of the vertices.\n",
    "    in_bound_vertices_list : The list of all the in-bound vertices of all the vertices. A dictionary matching the vertex index with the index of all the in-bound vertices.\n",
    "    out_bound_vertices_count : The list of count of all the out-bound vertices from a vertex. An array of the out-bound vertex count from a particular vertex(index positioned).\n",
    "    tolerance : The accuracy of the page rank that is required.\n",
    "    max_iterations : The maximum iterations that the algorithm should continue in case of no convergence.\n",
    "    \n",
    "    Returns\n",
    "    -------\n",
    "    \n",
    "    page_ranks_manual : The page ranks calculated\n",
    "    \"\"\"\n",
    "    \n",
    "    # Number of vertices\n",
    "    num_vertices = len(vertices_names)\n",
    "    \n",
    "    # Initialize the page ranks of all the vertices to be equal (1 / num_vertices)\n",
    "    page_rank = [(1/num_vertices) for _ in range(num_vertices)]\n",
    "    \n",
    "    # Calculate the overall convergence condition for the combination of the whole list of vertices\n",
    "    epsilon = num_vertices * tolerance\n",
    "    \n",
    "    # Start the algorithm\n",
    "    converged = False\n",
    "    for i in range(max_iterations) :\n",
    "        \n",
    "        # Store the old page ranks\n",
    "        page_rank_old = page_rank[:]\n",
    "        \n",
    "        # Update the page ranks of all the vertices\n",
    "        for j in range(num_vertices) :\n",
    "            \n",
    "            # Because of addition further ahead, we re-initialize this value\n",
    "            page_rank[j] = 0\n",
    "            \n",
    "            # Add all the in-bound vertices page rank/out-bound count\n",
    "            for k in in_bound_vertices_list[j] :\n",
    "                page_rank[j] += page_rank_old[k] / out_bound_vertices_count[k]\n",
    "            \n",
    "        # Check for convergence condition\n",
    "        error = sum([abs(page_rank[j] - page_rank_old[j]) for j in range(num_vertices)])\n",
    "        if error < epsilon :\n",
    "            converged = True\n",
    "            break\n",
    "    \n",
    "    # Return the solution, only if convergence has taken place\n",
    "    if converged :\n",
    "        page_rank_manual = {}\n",
    "        \n",
    "        for i, pr in enumerate(page_rank) :\n",
    "            page_rank_manual[vertices_names[i]] = pr\n",
    "        \n",
    "        return page_rank_manual"
   ]
  },
  {
   "cell_type": "code",
   "execution_count": 17,
   "metadata": {},
   "outputs": [
    {
     "data": {
      "text/plain": [
       "{'v1': 0.1818174601173467,\n",
       " 'v2': 0.2727282232687022,\n",
       " 'v3': 0.1363637933458539,\n",
       " 'v4': 0.13636291920730784,\n",
       " 'v5': 0.27272760406078966}"
      ]
     },
     "execution_count": 17,
     "metadata": {},
     "output_type": "execute_result"
    }
   ],
   "source": [
    "page_rank_manual = pageRank(graph, vertices_list, in_bound_vertices_list, out_bound_vertices_count)\n",
    "page_rank_manual"
   ]
  },
  {
   "cell_type": "code",
   "execution_count": 18,
   "metadata": {},
   "outputs": [
    {
     "data": {
      "text/plain": [
       "{'v2': 0.2727282232687022,\n",
       " 'v5': 0.27272760406078966,\n",
       " 'v1': 0.1818174601173467,\n",
       " 'v3': 0.1363637933458539,\n",
       " 'v4': 0.13636291920730784}"
      ]
     },
     "execution_count": 18,
     "metadata": {},
     "output_type": "execute_result"
    }
   ],
   "source": [
    "# Sort the pages by their ranks\n",
    "\n",
    "page_rank_manual = dict(sorted(page_rank_manual.items(), key=lambda item: item[1], reverse=True))\n",
    "page_rank_manual"
   ]
  },
  {
   "cell_type": "code",
   "execution_count": 19,
   "metadata": {},
   "outputs": [
    {
     "name": "stdout",
     "output_type": "stream",
     "text": [
      "The Pages in the order of importance with the page rank scores obtained by performing Random Walk are : \n",
      "v2 = 0.2727282232687022\n",
      "v5 = 0.27272760406078966\n",
      "v1 = 0.1818174601173467\n",
      "v3 = 0.1363637933458539\n",
      "v4 = 0.13636291920730784\n"
     ]
    }
   ],
   "source": [
    "# Print the pages by the order of their ranks\n",
    "\n",
    "print(\"The Pages in the order of importance with the page rank scores obtained by performing Random Walk are : \")\n",
    "for k, v in page_rank_manual.items() :\n",
    "    print(k, \"=\", v)"
   ]
  },
  {
   "cell_type": "markdown",
   "metadata": {},
   "source": [
    "## Result\n",
    "\n",
    "We can by this conclude that the page ranks obtained by both the algorithms are nearly the same.\n",
    "<br>\n",
    "And further we see that the order of the pages delivered by both the algorithms is the same.\n",
    "<br>\n",
    "The order of the nodes by their page ranks is : `v2 > v5 > v1 > v3 > v4`"
   ]
  },
  {
   "cell_type": "code",
   "execution_count": null,
   "metadata": {},
   "outputs": [],
   "source": []
  }
 ],
 "metadata": {
  "kernelspec": {
   "display_name": "Python 3",
   "language": "python",
   "name": "python3"
  },
  "language_info": {
   "codemirror_mode": {
    "name": "ipython",
    "version": 3
   },
   "file_extension": ".py",
   "mimetype": "text/x-python",
   "name": "python",
   "nbconvert_exporter": "python",
   "pygments_lexer": "ipython3",
   "version": "3.8.3"
  }
 },
 "nbformat": 4,
 "nbformat_minor": 4
}
